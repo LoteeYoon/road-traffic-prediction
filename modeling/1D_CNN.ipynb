{
 "cells": [
  {
   "cell_type": "markdown",
   "id": "c95ce8c2",
   "metadata": {},
   "source": [
    "# 1D CNN modeling"
   ]
  },
  {
   "cell_type": "markdown",
   "id": "8b0d6836",
   "metadata": {},
   "source": [
    "### 1. Load Dataset"
   ]
  },
  {
   "cell_type": "code",
   "execution_count": 1,
   "id": "0d69c2a1",
   "metadata": {},
   "outputs": [],
   "source": [
    "import torch\n",
    "import torch.nn as nn\n",
    "import torch.nn.functional as F\n",
    "import pandas as pd\n",
    "\n",
    "train = pd.read_csv('../../data/prepared_train.csv')\n",
    "test = pd.read_csv('../../data/prepared_test.csv')"
   ]
  },
  {
   "cell_type": "markdown",
   "id": "bea6186e",
   "metadata": {},
   "source": [
    "### 2. Train, Validation, Test split"
   ]
  },
  {
   "cell_type": "code",
   "execution_count": 2,
   "id": "70e55636",
   "metadata": {},
   "outputs": [],
   "source": [
    "from sklearn.model_selection import StratifiedShuffleSplit\n",
    "\n",
    "group = ['lane_count', 'road_rating', 'weight_restricted', 'maximum_speed_limit']\n",
    "\n",
    "split = StratifiedShuffleSplit(n_splits=1, test_size=0.2, random_state=42)\n",
    "\n",
    "for train_index, val_index in split.split(train, train[group]):\n",
    "    train_set = train.loc[train_index]\n",
    "    val_set = train.loc[val_index]"
   ]
  },
  {
   "cell_type": "markdown",
   "id": "4472698b",
   "metadata": {},
   "source": [
    "### 3. Scaling"
   ]
  },
  {
   "cell_type": "code",
   "execution_count": 3,
   "id": "7eeda1db",
   "metadata": {
    "scrolled": true
   },
   "outputs": [],
   "source": [
    "from sklearn.preprocessing import StandardScaler\n",
    "\n",
    "scaler = StandardScaler()\n",
    "train_ = scaler.fit_transform(train_set.loc[:, train_set.columns != 'target'])\n",
    "train_ = pd.DataFrame(train_, columns=train_set.columns.drop('target').values)\n",
    "train_['target'] = train_set[['target']].values\n",
    "train_set = train_\n",
    "train_ = 0\n",
    "\n",
    "val_ = scaler.transform(val_set.loc[:, val_set.columns != 'target'])\n",
    "val_ = pd.DataFrame(val_, columns=val_set.columns.drop('target').values)\n",
    "val_['target'] = val_set[['target']].values\n",
    "val_set = val_\n",
    "val_ = 0\n",
    "\n",
    "test_ = scaler.transform(test)\n",
    "test_ = pd.DataFrame(test_, columns=test.columns)\n",
    "test = test_\n",
    "test_ = 0"
   ]
  },
  {
   "cell_type": "markdown",
   "id": "5e3eb8d6",
   "metadata": {},
   "source": [
    "### 4. DataLoader"
   ]
  },
  {
   "cell_type": "code",
   "execution_count": 4,
   "id": "ceccf421",
   "metadata": {},
   "outputs": [],
   "source": [
    "from torch.utils.data import Dataset, DataLoader\n",
    "\n",
    "class CustomDataset(Dataset):\n",
    "    def __init__(self, dataset):\n",
    "        self.X = torch.tensor(dataset.loc[:, dataset.columns != 'target'].values, dtype=torch.float32, device=\"cuda\")\n",
    "        self.y = torch.tensor(dataset.loc[:, dataset.columns == 'target'].values, dtype=torch.float32, device=\"cuda\")\n",
    "        \n",
    "    def __len__(self):\n",
    "        return len(self.y)\n",
    "    \n",
    "    def __getitem__(self, idx):\n",
    "        return self.X[idx], self.y[idx]"
   ]
  },
  {
   "cell_type": "code",
   "execution_count": 5,
   "id": "fef85ad1",
   "metadata": {},
   "outputs": [],
   "source": [
    "_train = CustomDataset(train_set)\n",
    "_valid = CustomDataset(val_set)\n",
    "_test = CustomDataset(test)\n",
    "\n",
    "trainloader = DataLoader(_train, batch_size=64, shuffle=True, num_workers=0, drop_last=True)\n",
    "validloader = DataLoader(_valid, batch_size=64, shuffle=True, num_workers=0, drop_last=True)\n",
    "testloader = DataLoader(_test, batch_size=1, shuffle=False, num_workers=0)"
   ]
  },
  {
   "cell_type": "markdown",
   "id": "eb181400",
   "metadata": {},
   "source": [
    "### 5. Simple Neural network"
   ]
  },
  {
   "cell_type": "code",
   "execution_count": 6,
   "id": "a4e7f3aa",
   "metadata": {},
   "outputs": [],
   "source": [
    "class Model(nn.Module):\n",
    "        def __init__(self, num_features, num_targets, hidden_size):\n",
    "            super(Model, self).__init__()\n",
    "            cha_1 = 256\n",
    "            cha_2 = 512\n",
    "            cha_3 = 512\n",
    "\n",
    "            cha_1_reshape = int(hidden_size/cha_1)\n",
    "            cha_po_1 = int(hidden_size/cha_1/2)\n",
    "            cha_po_2 = int(hidden_size/cha_1/2/2) * cha_3\n",
    "\n",
    "            self.cha_1 = cha_1\n",
    "            self.cha_2 = cha_2\n",
    "            self.cha_3 = cha_3\n",
    "            self.cha_1_reshape = cha_1_reshape\n",
    "            self.cha_po_1 = cha_po_1\n",
    "            self.cha_po_2 = cha_po_2\n",
    "\n",
    "            self.batch_norm1 = nn.BatchNorm1d(num_features)\n",
    "            self.dropout1 = nn.Dropout(0.1)\n",
    "            self.dense1 = nn.utils.weight_norm(nn.Linear(num_features, hidden_size))\n",
    "\n",
    "            self.batch_norm_c1 = nn.BatchNorm1d(cha_1)\n",
    "            self.dropout_c1 = nn.Dropout(0.1)\n",
    "            self.conv1 = nn.utils.weight_norm(nn.Conv1d(cha_1,cha_2, kernel_size = 5, stride = 1, padding=2,  bias=False),dim=None)\n",
    "\n",
    "            self.ave_po_c1 = nn.AdaptiveAvgPool1d(output_size = cha_po_1)\n",
    "\n",
    "            self.batch_norm_c2 = nn.BatchNorm1d(cha_2)\n",
    "            self.dropout_c2 = nn.Dropout(0.1)\n",
    "            self.conv2 = nn.utils.weight_norm(nn.Conv1d(cha_2,cha_2, kernel_size = 3, stride = 1, padding=1, bias=True),dim=None)\n",
    "\n",
    "            self.batch_norm_c2_1 = nn.BatchNorm1d(cha_2)\n",
    "            self.dropout_c2_1 = nn.Dropout(0.3)\n",
    "            self.conv2_1 = nn.utils.weight_norm(nn.Conv1d(cha_2,cha_2, kernel_size = 3, stride = 1, padding=1, bias=True),dim=None)\n",
    "\n",
    "            self.batch_norm_c2_2 = nn.BatchNorm1d(cha_2)\n",
    "            self.dropout_c2_2 = nn.Dropout(0.2)\n",
    "            self.conv2_2 = nn.utils.weight_norm(nn.Conv1d(cha_2,cha_3, kernel_size = 5, stride = 1, padding=2, bias=True),dim=None)\n",
    "\n",
    "            self.max_po_c2 = nn.MaxPool1d(kernel_size=4, stride=2, padding=1)\n",
    "\n",
    "            self.flt = nn.Flatten()\n",
    "\n",
    "            self.batch_norm3 = nn.BatchNorm1d(cha_po_2)\n",
    "            self.dropout3 = nn.Dropout(0.2)\n",
    "            self.dense3 = nn.utils.weight_norm(nn.Linear(cha_po_2, num_targets))\n",
    "\n",
    "        def forward(self, x):\n",
    "\n",
    "            x = self.batch_norm1(x)\n",
    "            x = self.dropout1(x)\n",
    "            x = F.celu(self.dense1(x), alpha=0.06)\n",
    "\n",
    "            x = x.reshape(x.shape[0],self.cha_1,\n",
    "                          self.cha_1_reshape)\n",
    "\n",
    "            x = self.batch_norm_c1(x)\n",
    "            x = self.dropout_c1(x)\n",
    "            x = F.relu(self.conv1(x))\n",
    "\n",
    "            x = self.ave_po_c1(x)\n",
    "\n",
    "            x = self.batch_norm_c2(x)\n",
    "            x = self.dropout_c2(x)\n",
    "            x = F.relu(self.conv2(x))\n",
    "            x_s = x\n",
    "\n",
    "            x = self.batch_norm_c2_1(x)\n",
    "            x = self.dropout_c2_1(x)\n",
    "            x = F.relu(self.conv2_1(x))\n",
    "\n",
    "            x = self.batch_norm_c2_2(x)\n",
    "            x = self.dropout_c2_2(x)\n",
    "            x = F.relu(self.conv2_2(x))\n",
    "            x =  x * x_s\n",
    "\n",
    "            x = self.max_po_c2(x)\n",
    "\n",
    "            x = self.flt(x)\n",
    "\n",
    "            x = self.batch_norm3(x)\n",
    "            x = self.dropout3(x)\n",
    "            x = self.dense3(x)\n",
    "\n",
    "            return x"
   ]
  },
  {
   "cell_type": "code",
   "execution_count": 11,
   "id": "4b7ce3ca",
   "metadata": {},
   "outputs": [
    {
     "name": "stdout",
     "output_type": "stream",
     "text": [
      "Model(\n",
      "  (batch_norm1): BatchNorm1d(33, eps=1e-05, momentum=0.1, affine=True, track_running_stats=True)\n",
      "  (dropout1): Dropout(p=0.1, inplace=False)\n",
      "  (dense1): Linear(in_features=33, out_features=4096, bias=True)\n",
      "  (batch_norm_c1): BatchNorm1d(256, eps=1e-05, momentum=0.1, affine=True, track_running_stats=True)\n",
      "  (dropout_c1): Dropout(p=0.1, inplace=False)\n",
      "  (conv1): Conv1d(256, 512, kernel_size=(5,), stride=(1,), padding=(2,), bias=False)\n",
      "  (ave_po_c1): AdaptiveAvgPool1d(output_size=8)\n",
      "  (batch_norm_c2): BatchNorm1d(512, eps=1e-05, momentum=0.1, affine=True, track_running_stats=True)\n",
      "  (dropout_c2): Dropout(p=0.1, inplace=False)\n",
      "  (conv2): Conv1d(512, 512, kernel_size=(3,), stride=(1,), padding=(1,))\n",
      "  (batch_norm_c2_1): BatchNorm1d(512, eps=1e-05, momentum=0.1, affine=True, track_running_stats=True)\n",
      "  (dropout_c2_1): Dropout(p=0.3, inplace=False)\n",
      "  (conv2_1): Conv1d(512, 512, kernel_size=(3,), stride=(1,), padding=(1,))\n",
      "  (batch_norm_c2_2): BatchNorm1d(512, eps=1e-05, momentum=0.1, affine=True, track_running_stats=True)\n",
      "  (dropout_c2_2): Dropout(p=0.2, inplace=False)\n",
      "  (conv2_2): Conv1d(512, 512, kernel_size=(5,), stride=(1,), padding=(2,))\n",
      "  (max_po_c2): MaxPool1d(kernel_size=4, stride=2, padding=1, dilation=1, ceil_mode=False)\n",
      "  (flt): Flatten(start_dim=1, end_dim=-1)\n",
      "  (batch_norm3): BatchNorm1d(2048, eps=1e-05, momentum=0.1, affine=True, track_running_stats=True)\n",
      "  (dropout3): Dropout(p=0.2, inplace=False)\n",
      "  (dense3): Linear(in_features=2048, out_features=1, bias=True)\n",
      ")\n"
     ]
    }
   ],
   "source": [
    "device = torch.device('cuda' if torch.cuda.is_available() else 'cpu')\n",
    "model = Model(33, 1, 4096).to(device)\n",
    "print(model)"
   ]
  },
  {
   "cell_type": "markdown",
   "id": "f77c050a",
   "metadata": {},
   "source": [
    "### 6. Loss function & Optimizer"
   ]
  },
  {
   "cell_type": "code",
   "execution_count": 12,
   "id": "be4f2877",
   "metadata": {},
   "outputs": [],
   "source": [
    "import torch.optim as optim\n",
    "\n",
    "learning_rate = 0.001\n",
    "momentum = 0.09\n",
    "\n",
    "criterion = nn.L1Loss()\n",
    "optimizer = optim.SGD(model.parameters(), lr=learning_rate, momentum=momentum)"
   ]
  },
  {
   "cell_type": "markdown",
   "id": "bb063a21",
   "metadata": {},
   "source": [
    "### 7. Train"
   ]
  },
  {
   "cell_type": "code",
   "execution_count": 13,
   "id": "def2dd2c",
   "metadata": {},
   "outputs": [],
   "source": [
    "from livelossplot import PlotLosses\n",
    "from livelossplot.outputs import MatplotlibPlot, ExtremaPrinter\n",
    "\n",
    "num_epochs = 10\n",
    "dataloader = {\n",
    "    'train': trainloader,\n",
    "    'valid': validloader,\n",
    "}"
   ]
  },
  {
   "cell_type": "code",
   "execution_count": 14,
   "id": "5de16f48",
   "metadata": {},
   "outputs": [
    {
     "data": {
      "image/png": "[encoded data removed]",
      "text/plain": [
       "<Figure size 1200x800 with 2 Axes>"
      ]
     },
     "metadata": {},
     "output_type": "display_data"
    },
    {
     "name": "stdout",
     "output_type": "stream",
     "text": [
      "Loss\n",
      "\ttraining         \t (min:    0.088, max:    0.128, cur:    0.088)\n",
      "\tvalidation       \t (min:    0.078, max:    0.087, cur:    0.081)\n"
     ]
    }
   ],
   "source": [
    "liveloss = PlotLosses()\n",
    "\n",
    "for epoch in range(num_epochs):\n",
    "    logs = {}\n",
    "    for phase in ['train', 'valid']:\n",
    "        if phase == 'train':\n",
    "            model.train()\n",
    "        else:\n",
    "            model.eval()\n",
    "            \n",
    "        accum_loss = 0\n",
    "        cur_loss = 0\n",
    "        for i, (data, labels) in enumerate(dataloader[phase]):\n",
    "            inputs = data.to(device)\n",
    "            labels = labels.to(device)\n",
    "            \n",
    "            outputs = model(inputs)\n",
    "            loss = criterion(outputs, labels)\n",
    "            \n",
    "            if phase == 'train':\n",
    "                optimizer.zero_grad()\n",
    "                loss.backward()\n",
    "                optimizer.step()\n",
    "\n",
    "            cur_loss += loss.item()\n",
    "            accum_loss += loss.item()\n",
    "            \n",
    "            if (phase == 'train') & (i % 5000 == 4999):\n",
    "                print(f'[{epoch + 1}, {i + 1}] loss: {cur_loss / 5000:.3f}')\n",
    "                cur_loss = 0\n",
    "            elif (phase == 'valid') & (i % 2000 == 1999):\n",
    "                print(f'[{epoch + 1}, {i + 1}] loss: {cur_loss / 2000:.3f}')\n",
    "                cur_loss = 0                \n",
    "                \n",
    "        epoch_loss = accum_loss / len(dataloader[phase].dataset)\n",
    "        \n",
    "        prefix = ''\n",
    "        if phase == 'valid':\n",
    "            prefix = 'val_'\n",
    "            \n",
    "        logs[prefix + 'loss'] = epoch_loss\n",
    "\n",
    "    liveloss.update(logs)\n",
    "    liveloss.send()"
   ]
  },
  {
   "cell_type": "markdown",
   "id": "31c57399",
   "metadata": {},
   "source": [
    "### 8. Evaluation"
   ]
  },
  {
   "cell_type": "code",
   "execution_count": 15,
   "id": "e3148c62",
   "metadata": {},
   "outputs": [],
   "source": [
    "model_path = '../../data/1D_CNN.pth'\n",
    "torch.save(model.state_dict(), model_path)\n",
    "\n",
    "model = Model(33, 1, 4096).to(device)\n",
    "model.load_state_dict(torch.load(model_path))\n",
    "\n",
    "submission = '../../data/sample_submission.csv'\n",
    "\n",
    "results = pd.read_csv(submission)"
   ]
  },
  {
   "cell_type": "code",
   "execution_count": 16,
   "id": "197f45be",
   "metadata": {},
   "outputs": [],
   "source": [
    "model.eval()\n",
    "with torch.no_grad():\n",
    "    for i, (data, _) in enumerate(testloader):\n",
    "        inputs = data\n",
    "        outputs = model(inputs)\n",
    "        results.loc[i, ['target']] = outputs.cpu().detach().numpy()[0][0]"
   ]
  },
  {
   "cell_type": "code",
   "execution_count": 17,
   "id": "3e5a1174",
   "metadata": {},
   "outputs": [],
   "source": [
    "results.to_csv('../../data/sample_submission_1D_Conv.csv', index=False)"
   ]
  },
  {
   "cell_type": "code",
   "execution_count": null,
   "id": "7860edef",
   "metadata": {},
   "outputs": [],
   "source": []
  }
 ],
 "metadata": {
  "kernelspec": {
   "display_name": "traffic",
   "language": "python",
   "name": "traffic"
  },
  "language_info": {
   "codemirror_mode": {
    "name": "ipython",
    "version": 3
   },
   "file_extension": ".py",
   "mimetype": "text/x-python",
   "name": "python",
   "nbconvert_exporter": "python",
   "pygments_lexer": "ipython3",
   "version": "3.8.13"
  }
 },
 "nbformat": 4,
 "nbformat_minor": 5
}
