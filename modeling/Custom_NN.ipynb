{
 "cells": [
  {
   "cell_type": "markdown",
   "id": "b3430c63",
   "metadata": {},
   "source": [
    "# Custom NN modeling"
   ]
  },
  {
   "cell_type": "markdown",
   "id": "ef909fcd",
   "metadata": {},
   "source": [
    "### 1. Load Dataset"
   ]
  },
  {
   "cell_type": "code",
   "execution_count": 1,
   "id": "d3539cc5",
   "metadata": {},
   "outputs": [],
   "source": [
    "import torch\n",
    "import torch.nn as nn\n",
    "import torch.nn.functional as F\n",
    "import pandas as pd\n",
    "\n",
    "train = pd.read_csv('../../data/prepared_train.csv')\n",
    "test = pd.read_csv('../../data/prepared_test.csv')"
   ]
  },
  {
   "cell_type": "markdown",
   "id": "6f9366ac",
   "metadata": {},
   "source": [
    "### 2. Train, Validation, Test split"
   ]
  },
  {
   "cell_type": "code",
   "execution_count": 2,
   "id": "68389d49",
   "metadata": {},
   "outputs": [],
   "source": [
    "from sklearn.model_selection import StratifiedShuffleSplit\n",
    "\n",
    "group = ['lane_count', 'road_rating', 'weight_restricted', 'maximum_speed_limit']\n",
    "\n",
    "split = StratifiedShuffleSplit(n_splits=1, test_size=0.2, random_state=42)\n",
    "\n",
    "for train_index, val_index in split.split(train, train[group]):\n",
    "    train_set = train.loc[train_index]\n",
    "    val_set = train.loc[val_index]"
   ]
  },
  {
   "cell_type": "markdown",
   "id": "7b4f0f24",
   "metadata": {},
   "source": [
    "### 3. Scaling"
   ]
  },
  {
   "cell_type": "code",
   "execution_count": 3,
   "id": "d4655111",
   "metadata": {},
   "outputs": [],
   "source": [
    "from sklearn.preprocessing import StandardScaler\n",
    "\n",
    "scaler = StandardScaler()\n",
    "train_ = scaler.fit_transform(train_set.loc[:, train_set.columns != 'target'])\n",
    "train_ = pd.DataFrame(train_, columns=train_set.columns.drop('target').values)\n",
    "train_['target'] = train_set[['target']].values\n",
    "train_set = train_\n",
    "train_ = 0\n",
    "\n",
    "val_ = scaler.transform(val_set.loc[:, val_set.columns != 'target'])\n",
    "val_ = pd.DataFrame(val_, columns=val_set.columns.drop('target').values)\n",
    "val_['target'] = val_set[['target']].values\n",
    "val_set = val_\n",
    "val_ = 0\n",
    "\n",
    "test_ = scaler.transform(test)\n",
    "test_ = pd.DataFrame(test_, columns=test.columns)\n",
    "test = test_\n",
    "test_ = 0"
   ]
  },
  {
   "cell_type": "markdown",
   "id": "d00005de",
   "metadata": {},
   "source": [
    "### 4. DataLoader"
   ]
  },
  {
   "cell_type": "code",
   "execution_count": 4,
   "id": "b3fd78e0",
   "metadata": {},
   "outputs": [],
   "source": [
    "from torch.utils.data import Dataset, DataLoader\n",
    "\n",
    "class CustomDataset(Dataset):\n",
    "    def __init__(self, dataset):\n",
    "        self.X = torch.tensor(dataset.loc[:, dataset.columns != 'target'].values, dtype=torch.float32, device=\"cuda\")\n",
    "        self.y = torch.tensor(dataset.loc[:, dataset.columns == 'target'].values, dtype=torch.float32, device=\"cuda\")\n",
    "        \n",
    "    def __len__(self):\n",
    "        return len(self.y)\n",
    "    \n",
    "    def __getitem__(self, idx):\n",
    "        return self.X[idx], self.y[idx]"
   ]
  },
  {
   "cell_type": "code",
   "execution_count": 5,
   "id": "6ee0175e",
   "metadata": {},
   "outputs": [],
   "source": [
    "_train = CustomDataset(train_set)\n",
    "_valid = CustomDataset(val_set)\n",
    "_test = CustomDataset(test)\n",
    "\n",
    "trainloader = DataLoader(_train, batch_size=64, shuffle=True, num_workers=0, drop_last=True)\n",
    "validloader = DataLoader(_valid, batch_size=64, shuffle=True, num_workers=0, drop_last=True)\n",
    "testloader = DataLoader(_test, batch_size=1, shuffle=False, num_workers=0)"
   ]
  },
  {
   "cell_type": "markdown",
   "id": "3b8a9b72",
   "metadata": {},
   "source": [
    "### 5. Custom Neural Network"
   ]
  },
  {
   "cell_type": "code",
   "execution_count": 6,
   "id": "60616f54",
   "metadata": {},
   "outputs": [],
   "source": [
    "class SimpleNet(nn.Module):\n",
    "    def __init__(self):\n",
    "        super(SimpleNet, self).__init__()\n",
    "        self.fc1 = nn.Linear(33, 25)\n",
    "        self.bn1 = nn.BatchNorm1d(25)\n",
    "        self.drop1 = nn.Dropout(0.5)\n",
    "        \n",
    "        self.fc2 = nn.Linear(25, 18)\n",
    "        self.bn2 = nn.BatchNorm1d(18)\n",
    "        self.drop2 = nn.Dropout(0.5)\n",
    "        \n",
    "        self.fc3 = nn.Linear(18, 10)\n",
    "        self.bn3 = nn.BatchNorm1d(10)\n",
    "        self.drop3 = nn.Dropout(0.5)\n",
    "        \n",
    "        self.fc4 = nn.Linear(10, 5)\n",
    "        self.bn4 = nn.BatchNorm1d(5)\n",
    "        self.drop4 = nn.Dropout(0.5)\n",
    "        \n",
    "        self.fc5 = nn.Linear(5, 1)\n",
    "        \n",
    "    def forward(self, x):\n",
    "        x = F.relu(self.bn1(self.fc1(x)))\n",
    "        x = self.drop1(x)\n",
    "        x = F.relu(self.bn2(self.fc2(x)))\n",
    "        x = self.drop2(x)\n",
    "        x = F.relu(self.bn3(self.fc3(x)))\n",
    "        x = self.drop3(x)\n",
    "        x = F.relu(self.fc4(x))\n",
    "        x = self.drop4(x)\n",
    "        x = self.fc5(x)\n",
    "        return x"
   ]
  },
  {
   "cell_type": "code",
   "execution_count": 7,
   "id": "e1f01d4c",
   "metadata": {},
   "outputs": [
    {
     "name": "stdout",
     "output_type": "stream",
     "text": [
      "SimpleNet(\n",
      "  (fc1): Linear(in_features=33, out_features=25, bias=True)\n",
      "  (bn1): BatchNorm1d(25, eps=1e-05, momentum=0.1, affine=True, track_running_stats=True)\n",
      "  (drop1): Dropout(p=0.5, inplace=False)\n",
      "  (fc2): Linear(in_features=25, out_features=18, bias=True)\n",
      "  (bn2): BatchNorm1d(18, eps=1e-05, momentum=0.1, affine=True, track_running_stats=True)\n",
      "  (drop2): Dropout(p=0.5, inplace=False)\n",
      "  (fc3): Linear(in_features=18, out_features=10, bias=True)\n",
      "  (bn3): BatchNorm1d(10, eps=1e-05, momentum=0.1, affine=True, track_running_stats=True)\n",
      "  (drop3): Dropout(p=0.5, inplace=False)\n",
      "  (fc4): Linear(in_features=10, out_features=5, bias=True)\n",
      "  (bn4): BatchNorm1d(5, eps=1e-05, momentum=0.1, affine=True, track_running_stats=True)\n",
      "  (drop4): Dropout(p=0.5, inplace=False)\n",
      "  (fc5): Linear(in_features=5, out_features=1, bias=True)\n",
      ")\n"
     ]
    }
   ],
   "source": [
    "device = torch.device('cuda' if torch.cuda.is_available() else 'cpu')\n",
    "model = SimpleNet().to(device)\n",
    "print(model)"
   ]
  },
  {
   "cell_type": "markdown",
   "id": "fffe00e1",
   "metadata": {},
   "source": [
    "### 6. Loss function & Optimizer"
   ]
  },
  {
   "cell_type": "code",
   "execution_count": 8,
   "id": "e6873dd1",
   "metadata": {},
   "outputs": [],
   "source": [
    "import torch.optim as optim\n",
    "\n",
    "learning_rate = 0.001\n",
    "momentum = 0.09\n",
    "\n",
    "criterion = nn.L1Loss()\n",
    "optimizer = optim.SGD(model.parameters(), lr=learning_rate, momentum=momentum)"
   ]
  },
  {
   "cell_type": "markdown",
   "id": "b4ba81bf",
   "metadata": {},
   "source": [
    "### 7. Train"
   ]
  },
  {
   "cell_type": "code",
   "execution_count": 9,
   "id": "44c3ef53",
   "metadata": {},
   "outputs": [],
   "source": [
    "from livelossplot import PlotLosses\n",
    "from livelossplot.outputs import MatplotlibPlot, ExtremaPrinter\n",
    "\n",
    "num_epochs = 10\n",
    "dataloader = {\n",
    "    'train': trainloader,\n",
    "    'valid': validloader,\n",
    "}"
   ]
  },
  {
   "cell_type": "code",
   "execution_count": 10,
   "id": "4cc9ab4f",
   "metadata": {},
   "outputs": [
    {
     "data": {
      "image/png": "[encoded data removed]",
      "text/plain": [
       "<Figure size 1200x800 with 2 Axes>"
      ]
     },
     "metadata": {},
     "output_type": "display_data"
    },
    {
     "name": "stdout",
     "output_type": "stream",
     "text": [
      "Loss\n",
      "\ttraining         \t (min:    0.163, max:    0.251, cur:    0.163)\n",
      "\tvalidation       \t (min:    0.134, max:    0.152, cur:    0.137)\n"
     ]
    }
   ],
   "source": [
    "liveloss = PlotLosses()\n",
    "\n",
    "for epoch in range(num_epochs):\n",
    "    logs = {}\n",
    "    for phase in ['train', 'valid']:\n",
    "        if phase == 'train':\n",
    "            model.train()\n",
    "        else:\n",
    "            model.eval()\n",
    "            \n",
    "        accum_loss = 0\n",
    "        cur_loss = 0\n",
    "        for i, (data, labels) in enumerate(dataloader[phase]):\n",
    "            inputs = data.to(device)\n",
    "            labels = labels.to(device)\n",
    "            \n",
    "            outputs = model(inputs)\n",
    "            loss = criterion(outputs, labels)\n",
    "            \n",
    "            if phase == 'train':\n",
    "                optimizer.zero_grad()\n",
    "                loss.backward()\n",
    "                optimizer.step()\n",
    "\n",
    "            cur_loss += loss.item()\n",
    "            accum_loss += loss.item()\n",
    "            \n",
    "            if (phase == 'train') & (i % 5000 == 4999):\n",
    "                print(f'[{epoch + 1}, {i + 1}] loss: {cur_loss / 5000:.3f}')\n",
    "                cur_loss = 0\n",
    "            elif (phase == 'valid') & (i % 2000 == 1999):\n",
    "                print(f'[{epoch + 1}, {i + 1}] loss: {cur_loss / 2000:.3f}')\n",
    "                cur_loss = 0                \n",
    "                \n",
    "        epoch_loss = accum_loss / len(dataloader[phase].dataset)\n",
    "        \n",
    "        prefix = ''\n",
    "        if phase == 'valid':\n",
    "            prefix = 'val_'\n",
    "            \n",
    "        logs[prefix + 'loss'] = epoch_loss\n",
    "\n",
    "    liveloss.update(logs)\n",
    "    liveloss.send()"
   ]
  },
  {
   "cell_type": "markdown",
   "id": "82814c27",
   "metadata": {},
   "source": [
    "### 8. Evaluation"
   ]
  },
  {
   "cell_type": "code",
   "execution_count": 11,
   "id": "e504d94e",
   "metadata": {},
   "outputs": [],
   "source": [
    "model_path = '../../data/custom_nn.pth'\n",
    "torch.save(model.state_dict(), model_path)\n",
    "\n",
    "model = SimpleNet().to(device)\n",
    "model.load_state_dict(torch.load(model_path))\n",
    "\n",
    "submission = '../../data/sample_submission.csv'\n",
    "\n",
    "results = pd.read_csv(submission)"
   ]
  },
  {
   "cell_type": "code",
   "execution_count": 12,
   "id": "ba19eeaa",
   "metadata": {},
   "outputs": [],
   "source": [
    "model.eval()\n",
    "with torch.no_grad():\n",
    "    for i, (data, _) in enumerate(testloader):\n",
    "        inputs = data\n",
    "        outputs = model(inputs)\n",
    "        results.loc[i, ['target']] = outputs.cpu().detach().numpy()[0][0]"
   ]
  },
  {
   "cell_type": "code",
   "execution_count": 13,
   "id": "2e257aea",
   "metadata": {},
   "outputs": [],
   "source": [
    "results.to_csv('../../data/sample_submission_custom.csv', index=False)"
   ]
  }
 ],
 "metadata": {
  "kernelspec": {
   "display_name": "traffic",
   "language": "python",
   "name": "traffic"
  },
  "language_info": {
   "codemirror_mode": {
    "name": "ipython",
    "version": 3
   },
   "file_extension": ".py",
   "mimetype": "text/x-python",
   "name": "python",
   "nbconvert_exporter": "python",
   "pygments_lexer": "ipython3",
   "version": "3.8.13"
  }
 },
 "nbformat": 4,
 "nbformat_minor": 5
}
